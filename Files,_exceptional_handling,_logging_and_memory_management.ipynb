{
  "nbformat": 4,
  "nbformat_minor": 0,
  "metadata": {
    "colab": {
      "provenance": []
    },
    "kernelspec": {
      "name": "python3",
      "display_name": "Python 3"
    },
    "language_info": {
      "name": "python"
    }
  },
  "cells": [
    {
      "cell_type": "markdown",
      "source": [
        "# Files, exceptional handling, logging and  memory management Questions\n",
        "\n"
      ],
      "metadata": {
        "id": "kH32r911333c"
      }
    },
    {
      "cell_type": "markdown",
      "source": [
        "# 1. What is the difference between interpreted and compiled languages?\n",
        "The main difference is:\n",
        "\n",
        "* **Compiled languages** (like C, C++) are translated *entirely into machine code* by a compiler **before** execution, making them **faster** but less flexible.\n",
        "* **Interpreted languages** (like Python, JavaScript) are translated and executed **line by line at runtime** by an interpreter, making them **slower** but more **flexible and easier to debug**.\n"
      ],
      "metadata": {
        "id": "x8otisJI5oEi"
      }
    },
    {
      "cell_type": "markdown",
      "source": [
        "# 2. What is exception handling in Python?\n",
        "Exception handling in Python is the process of managing errors using `try`, `except`, `else`, and `finally` blocks to prevent program crashes.\n"
      ],
      "metadata": {
        "id": "XL58WjFKJJFU"
      }
    },
    {
      "cell_type": "markdown",
      "source": [
        "# 3. What is the purpose of the finally block in exception handling?\n",
        "\n",
        "The `finally` block is used to execute cleanup code regardless of whether an exception occurred or not.\n"
      ],
      "metadata": {
        "id": "XAk6bRapL3wO"
      }
    },
    {
      "cell_type": "markdown",
      "source": [
        "# 4. What is logging in Python?\n",
        "Logging in Python is the process of recording messages during program execution to help track events, debug issues, or monitor application behavior.\n"
      ],
      "metadata": {
        "id": "bU75WNcqO1ja"
      }
    },
    {
      "cell_type": "markdown",
      "source": [
        "# 5. What is the significance of the __del__ method in Python?\n",
        "The `__del__` method in Python is a destructor used to define cleanup actions when an object is about to be destroyed.\n"
      ],
      "metadata": {
        "id": "CPm0AS3vQYHu"
      }
    },
    {
      "cell_type": "markdown",
      "source": [
        "# 6. What is the difference between import and from ... import in Python?\n",
        "\n",
        "`import` brings in the entire module, while `from ... import` brings in specific parts (like functions or classes) from the module.\n"
      ],
      "metadata": {
        "id": "2lqD0NkPQxYv"
      }
    },
    {
      "cell_type": "markdown",
      "source": [
        "# 7. How can you handle multiple exceptions in Python?\n",
        "By using a single `except` block with a tuple of exceptions: `except (TypeError, ValueError) as e:`\n"
      ],
      "metadata": {
        "id": "OEe0TK3NSZsj"
      }
    },
    {
      "cell_type": "markdown",
      "source": [
        "# 8. What is the purpose of the with statement when handling files in Python?\n",
        "The `with` statement ensures proper acquisition and release of file resources, automatically closing the file after use.\n"
      ],
      "metadata": {
        "id": "VLYMkCTvX5el"
      }
    },
    {
      "cell_type": "markdown",
      "source": [
        "# 9. What is the difference between multithreading and multiprocessing?\n",
        "Multithreading runs multiple threads in the same process for shared memory tasks, while multiprocessing runs separate processes for true parallelism with isolated memory.\n"
      ],
      "metadata": {
        "id": "16rxHzCKYqK_"
      }
    },
    {
      "cell_type": "markdown",
      "source": [
        "# 10. What are the advantages of using logging in a program?\n",
        "Logging helps track events, debug issues, and monitor program execution without interrupting the flow.\n"
      ],
      "metadata": {
        "id": "B88Ro_XPZXES"
      }
    },
    {
      "cell_type": "markdown",
      "source": [
        "# 11. What is memory management in Python?\n",
        "\n",
        "Memory management in Python involves automatic allocation and deallocation of memory using a private heap and garbage collection.\n"
      ],
      "metadata": {
        "id": "l1KjVCFfdF9Z"
      }
    },
    {
      "cell_type": "markdown",
      "source": [
        "# 12. What are the basic steps involved in exception handling in Python?\n",
        "The basic steps are: use `try` to run code, `except` to catch exceptions, `else` for code if no exception, and `finally` for cleanup actions.\n"
      ],
      "metadata": {
        "id": "Be1cdGTqeaok"
      }
    },
    {
      "cell_type": "markdown",
      "source": [
        "# 13. Why is memory management important in Python?\n",
        "Memory management is important in Python to optimize resource use, prevent memory leaks, and ensure efficient program execution.\n"
      ],
      "metadata": {
        "id": "WrceqR5nfCzn"
      }
    },
    {
      "cell_type": "markdown",
      "source": [
        "# 14. What is the role of try and except in exception handling?\n",
        "The `try` block runs code that may raise an error, and the `except` block catches and handles the exception if it occurs.\n"
      ],
      "metadata": {
        "id": "JVKbDGgMgAIC"
      }
    },
    {
      "cell_type": "markdown",
      "source": [
        "# 15. How does Python's garbage collection system work?\n",
        "Python's garbage collection automatically frees memory by identifying and deleting objects no longer referenced, primarily using reference counting and cycle detection.\n"
      ],
      "metadata": {
        "id": "aIGoNv6fgaER"
      }
    },
    {
      "cell_type": "markdown",
      "source": [
        "# 16. What is the purpose of the else block in exception handling?\n",
        "The `else` block runs code only if no exceptions were raised in the `try` block.\n"
      ],
      "metadata": {
        "id": "PiUrOApahNhy"
      }
    },
    {
      "cell_type": "markdown",
      "source": [
        "# 17. What are the common logging levels in Python?\n",
        "The common logging levels in Python are DEBUG, INFO, WARNING, ERROR, and CRITICAL.\n"
      ],
      "metadata": {
        "id": "oIIKfkfgh1Rk"
      }
    },
    {
      "cell_type": "markdown",
      "source": [
        "# 18. What is the difference between os.fork() and multiprocessing in Python?\n",
        "`os.fork()` creates a child process using low-level system calls, while `multiprocessing` provides a high-level API for spawning processes with better cross-platform support.\n"
      ],
      "metadata": {
        "id": "QcrQqxRhj5Pk"
      }
    },
    {
      "cell_type": "markdown",
      "source": [
        "# 19. What is the importance of closing a file in Python?\n",
        "Closing a file in Python ensures that all data is properly written to disk and system resources are released.\n"
      ],
      "metadata": {
        "id": "4R-CVXmMkZmt"
      }
    },
    {
      "cell_type": "markdown",
      "source": [
        "# 20. What is the difference between file.read() and file.readline() in Python?\n",
        "`file.read()` reads the entire file at once, while `file.readline()` reads one line at a time.\n"
      ],
      "metadata": {
        "id": "aCV9EJORksIG"
      }
    },
    {
      "cell_type": "markdown",
      "source": [
        "# 21. What is the logging module in Python used for?\n",
        "The `logging` module in Python is used to record messages for tracking events, debugging, and error reporting in applications.\n"
      ],
      "metadata": {
        "id": "rTmWRnMmk-9e"
      }
    },
    {
      "cell_type": "markdown",
      "source": [
        "# 22. What is the os module in Python used for in file handling?\n",
        "The `os` module in Python is used for interacting with the operating system, such as creating, deleting, and navigating files and directories.\n"
      ],
      "metadata": {
        "id": "OfOqgnARl0tm"
      }
    },
    {
      "cell_type": "markdown",
      "source": [
        "# 23. What are the challenges associated with memory management in Python?\n",
        "Challenges in Python's memory management include handling memory leaks, circular references, and optimizing performance for large objects.\n"
      ],
      "metadata": {
        "id": "dM56M82mmVqN"
      }
    },
    {
      "cell_type": "markdown",
      "source": [
        "# 24. How do you raise an exception manually in Python?\n",
        "You can raise an exception manually in Python using the `raise` statement followed by the exception type, e.g., `raise ValueError(\"Invalid input\")`.\n"
      ],
      "metadata": {
        "id": "TngU0hQam-MK"
      }
    },
    {
      "cell_type": "markdown",
      "source": [
        "# 25. Why is it important to use multithreading in certain applications?\n",
        "Multithreading is important in certain applications to improve performance by allowing concurrent execution, especially for I/O-bound tasks.\n"
      ],
      "metadata": {
        "id": "l8z8HtY8nORc"
      }
    },
    {
      "cell_type": "markdown",
      "source": [
        "# Practical Questions"
      ],
      "metadata": {
        "id": "nbEWJMq5niQ9"
      }
    },
    {
      "cell_type": "markdown",
      "source": [
        "# 1. How can you open a file for writing in Python and write a string to it?"
      ],
      "metadata": {
        "id": "Ipnt8P6hrEdn"
      }
    },
    {
      "cell_type": "code",
      "source": [
        "with open(\"example.txt\", \"w\") as file:\n",
        "    file.write(\"Hello, this is a sample text written to the file.\")\n",
        "\n"
      ],
      "metadata": {
        "id": "WSSpQnrfn-rx"
      },
      "execution_count": null,
      "outputs": []
    },
    {
      "cell_type": "markdown",
      "source": [
        "# 2.Write a Python program to read the contents of a file and print each line."
      ],
      "metadata": {
        "id": "ZjVERIPRq8gb"
      }
    },
    {
      "cell_type": "code",
      "source": [
        "with open(\"example.txt\", \"r\") as file:\n",
        "    for line in file:\n",
        "        print(line.strip())"
      ],
      "metadata": {
        "colab": {
          "base_uri": "https://localhost:8080/"
        },
        "id": "ehmz63SDoWmo",
        "outputId": "29c11608-de96-432a-e55a-8bc910aa97a5"
      },
      "execution_count": null,
      "outputs": [
        {
          "output_type": "stream",
          "name": "stdout",
          "text": [
            "Hello, this is a sample text written to the file.\n"
          ]
        }
      ]
    },
    {
      "cell_type": "markdown",
      "source": [
        "# 3. How would you handle a case where the file doesn't exist while trying to open it for reading?"
      ],
      "metadata": {
        "id": "lRSnGK_-rWqd"
      }
    },
    {
      "cell_type": "code",
      "source": [
        "try:\n",
        "    with open(\"example.txt\", \"r\") as file:\n",
        "        for line in file:\n",
        "            print(line.strip())\n",
        "except FileNotFoundError:\n",
        "    print(\"The file does not exist.\")\n"
      ],
      "metadata": {
        "colab": {
          "base_uri": "https://localhost:8080/"
        },
        "id": "r1vEQraXqjd0",
        "outputId": "d35ce37d-eb7a-44d0-fce5-1cf698ba0fda"
      },
      "execution_count": null,
      "outputs": [
        {
          "output_type": "stream",
          "name": "stdout",
          "text": [
            "Hello, this is a sample text written to the file.\n"
          ]
        }
      ]
    },
    {
      "cell_type": "markdown",
      "source": [
        "# 4. Write a Python script that reads from one file and writes its content to another file."
      ],
      "metadata": {
        "id": "SYDQviHOrsPX"
      }
    },
    {
      "cell_type": "code",
      "source": [
        "\n",
        "try:\n",
        "    with open(\"source.txt\", \"r\") as source_file:\n",
        "        content = source_file.read()\n",
        "\n",
        "    with open(\"destination.txt\", \"w\") as destination_file:\n",
        "        destination_file.write(content)\n",
        "\n",
        "    print(\"File copied successfully.\")\n",
        "\n",
        "except FileNotFoundError:\n",
        "    print(\"Source file not found.\")\n"
      ],
      "metadata": {
        "colab": {
          "base_uri": "https://localhost:8080/"
        },
        "id": "IFsvm71erqD8",
        "outputId": "e29a2075-e002-4fac-b3ac-59e18a8eff18"
      },
      "execution_count": null,
      "outputs": [
        {
          "output_type": "stream",
          "name": "stdout",
          "text": [
            "Source file not found.\n"
          ]
        }
      ]
    },
    {
      "cell_type": "markdown",
      "source": [
        "# 5. How would you catch and handle division by zero error in Python?"
      ],
      "metadata": {
        "id": "8JqKUCXfsb12"
      }
    },
    {
      "cell_type": "code",
      "source": [
        "try:\n",
        "    result = 10 / 0\n",
        "except ZeroDivisionError:\n",
        "    print(\"Cannot divide by zero.\")\n"
      ],
      "metadata": {
        "colab": {
          "base_uri": "https://localhost:8080/"
        },
        "id": "o7Ottb-WsR4t",
        "outputId": "055ad6a8-d11d-4858-ea15-c36b386a010d"
      },
      "execution_count": null,
      "outputs": [
        {
          "output_type": "stream",
          "name": "stdout",
          "text": [
            "Cannot divide by zero.\n"
          ]
        }
      ]
    },
    {
      "cell_type": "markdown",
      "source": [
        "# 6. Write a Python program that logs an error message to a log file when a division by zero exception occurs."
      ],
      "metadata": {
        "id": "Lzs__zAQtB4B"
      }
    },
    {
      "cell_type": "code",
      "source": [
        "import logging\n",
        "\n",
        "\n",
        "logging.basicConfig(filename='error_log.txt', level=logging.ERROR,\n",
        "                    format='%(asctime)s - %(levelname)s - %(message)s')\n",
        "\n",
        "try:\n",
        "\n",
        "    result = 10 / 0\n",
        "except ZeroDivisionError as e:\n",
        "\n",
        "    logging.error(\"Division by zero occurred: %s\", e)\n",
        "\n",
        "print(\"Program completed. Check 'error_log.txt' for error details.\")\n"
      ],
      "metadata": {
        "colab": {
          "base_uri": "https://localhost:8080/"
        },
        "id": "s1GChn-Os2MW",
        "outputId": "8c5eb998-9389-4a2a-9d01-fa4c8d8c194a"
      },
      "execution_count": null,
      "outputs": [
        {
          "output_type": "stream",
          "name": "stderr",
          "text": [
            "ERROR:root:Division by zero occurred: division by zero\n"
          ]
        },
        {
          "output_type": "stream",
          "name": "stdout",
          "text": [
            "Program completed. Check 'error_log.txt' for error details.\n"
          ]
        }
      ]
    },
    {
      "cell_type": "markdown",
      "source": [
        "# 7. How do you log information at different levels (INFO, ERROR, WARNING) in Python using the logging module?"
      ],
      "metadata": {
        "id": "lIdvtf-ut3tk"
      }
    },
    {
      "cell_type": "code",
      "source": [
        "import logging\n",
        "\n",
        "\n",
        "logging.basicConfig(level=logging.DEBUG, format='%(levelname)s: %(message)s')\n",
        "\n",
        "\n",
        "logging.info(\"This is an info message.\")\n",
        "logging.warning(\"This is a warning message.\")\n",
        "logging.error(\"This is an error message.\")\n"
      ],
      "metadata": {
        "colab": {
          "base_uri": "https://localhost:8080/"
        },
        "id": "2mw6adzqtuJH",
        "outputId": "fc6b7736-a7f5-416f-a834-e7795ae4a721"
      },
      "execution_count": null,
      "outputs": [
        {
          "output_type": "stream",
          "name": "stderr",
          "text": [
            "WARNING:root:This is a warning message.\n",
            "ERROR:root:This is an error message.\n"
          ]
        }
      ]
    },
    {
      "cell_type": "markdown",
      "source": [
        "# 8. Write a program to handle a file opening error using exception handling"
      ],
      "metadata": {
        "id": "ysh-mvxeuL38"
      }
    },
    {
      "cell_type": "code",
      "source": [
        "try:\n",
        "\n",
        "    with open(\"nonexistent_file.txt\", \"r\") as file:\n",
        "        content = file.read()\n",
        "        print(content)\n",
        "\n",
        "except FileNotFoundError:\n",
        "    print(\"Error: The file you are trying to open does not exist.\")\n"
      ],
      "metadata": {
        "colab": {
          "base_uri": "https://localhost:8080/"
        },
        "id": "a4BdTb7KuKgE",
        "outputId": "3746165d-75b2-4c41-a3d4-f94f48f7d4bb"
      },
      "execution_count": null,
      "outputs": [
        {
          "output_type": "stream",
          "name": "stdout",
          "text": [
            "Error: The file you are trying to open does not exist.\n"
          ]
        }
      ]
    },
    {
      "cell_type": "markdown",
      "source": [
        "# 9. How can you read a file line by line and store its content in a list in Python?"
      ],
      "metadata": {
        "id": "_ofHCEb_uphp"
      }
    },
    {
      "cell_type": "code",
      "source": [
        "with open(\"example.txt\", \"r\") as file:\n",
        "    lines = file.readlines()\n",
        "print(lines)\n"
      ],
      "metadata": {
        "colab": {
          "base_uri": "https://localhost:8080/"
        },
        "id": "avY8MoWfuoS8",
        "outputId": "2ccaf6dc-77d0-4e27-ab34-205065f2c067"
      },
      "execution_count": null,
      "outputs": [
        {
          "output_type": "stream",
          "name": "stdout",
          "text": [
            "['Hello, this is a sample text written to the file.']\n"
          ]
        }
      ]
    },
    {
      "cell_type": "markdown",
      "source": [
        "# 10. How can you append data to an existing file in Python?"
      ],
      "metadata": {
        "id": "kLiwfwJkvBH5"
      }
    },
    {
      "cell_type": "code",
      "source": [
        "with open(\"example.txt\", \"a\") as file:\n",
        "    file.write(\"\\nThis is the new appended line.\")\n"
      ],
      "metadata": {
        "id": "-OytoMCEu6Dw"
      },
      "execution_count": null,
      "outputs": []
    },
    {
      "cell_type": "markdown",
      "source": [
        "# 11. Write a Python program that uses a try-except block to handle an error when attempting to access a dictionary key that doesn't exist.\n"
      ],
      "metadata": {
        "id": "QNzDjcnBviZA"
      }
    },
    {
      "cell_type": "code",
      "source": [
        "\n",
        "student = {\"name\": \"Alice\", \"age\": 20}\n",
        "\n",
        "try:\n",
        "\n",
        "    print(\"Grade:\", student[\"grade\"])\n",
        "except KeyError:\n",
        "    print(\"Error: The key 'grade' does not exist in the dictionary.\")\n"
      ],
      "metadata": {
        "colab": {
          "base_uri": "https://localhost:8080/"
        },
        "id": "S7NwrPyFvd-9",
        "outputId": "00cae392-23b9-45a5-b7c5-bfc26acf5818"
      },
      "execution_count": null,
      "outputs": [
        {
          "output_type": "stream",
          "name": "stdout",
          "text": [
            "Error: The key 'grade' does not exist in the dictionary.\n"
          ]
        }
      ]
    },
    {
      "cell_type": "markdown",
      "source": [
        "# 12. Write a program that demonstrates using multiple except blocks to handle different types of exceptions."
      ],
      "metadata": {
        "id": "4lSI98EvwO97"
      }
    },
    {
      "cell_type": "code",
      "source": [
        "try:\n",
        "\n",
        "    num = int(input(\"Enter a number: \"))\n",
        "    result = 10 / num\n",
        "    items = [1, 2, 3]\n",
        "    print(items[5])\n",
        "\n",
        "except ValueError:\n",
        "    print(\"Error: Invalid input. Please enter a valid number.\")\n",
        "\n",
        "except ZeroDivisionError:\n",
        "    print(\"Error: Cannot divide by zero.\")\n",
        "\n",
        "except IndexError:\n",
        "    print(\"Error: List index out of range.\")\n",
        "\n",
        "except Exception as e:\n",
        "    print(\"An unexpected error occurred:\", e)\n"
      ],
      "metadata": {
        "colab": {
          "base_uri": "https://localhost:8080/"
        },
        "id": "BMLoyvcnwJkD",
        "outputId": "4dfe24d5-8465-4e4f-e415-318949e5aba4"
      },
      "execution_count": null,
      "outputs": [
        {
          "output_type": "stream",
          "name": "stdout",
          "text": [
            "Enter a number: 10\n",
            "Error: List index out of range.\n"
          ]
        }
      ]
    },
    {
      "cell_type": "markdown",
      "source": [
        "# 13. How would you check if a file exists before attempting to read it in Python?"
      ],
      "metadata": {
        "id": "wy4CsmP61AlF"
      }
    },
    {
      "cell_type": "code",
      "source": [
        "import os\n",
        "\n",
        "if os.path.exists(\"example.txt\"):\n",
        "    with open(\"example.txt\", \"r\") as file:\n",
        "        content = file.read()\n",
        "        print(content)\n",
        "else:\n",
        "    print(\"The file does not exist.\")\n"
      ],
      "metadata": {
        "colab": {
          "base_uri": "https://localhost:8080/"
        },
        "id": "SM5_WYoWwoIj",
        "outputId": "27c2f32e-8eb1-4acc-87da-c8dd9b0e448c"
      },
      "execution_count": null,
      "outputs": [
        {
          "output_type": "stream",
          "name": "stdout",
          "text": [
            "Hello, this is a sample text written to the file.\n",
            "This is the new appended line.\n",
            "This is the new appended line.\n"
          ]
        }
      ]
    },
    {
      "cell_type": "markdown",
      "source": [
        "# 14. Write a program that uses the logging module to log both informational and error messages."
      ],
      "metadata": {
        "id": "HHbIWJry2nUF"
      }
    },
    {
      "cell_type": "code",
      "source": [
        "import logging\n",
        "\n",
        "\n",
        "logging.basicConfig(filename='app_log.txt', level=logging.DEBUG,\n",
        "                    format='%(asctime)s - %(levelname)s - %(message)s')\n",
        "\n",
        "\n",
        "logging.info(\"Program started successfully.\")\n",
        "\n",
        "try:\n",
        "\n",
        "    number = int(input(\"Enter a number to divide 100 by: \"))\n",
        "    result = 100 / number\n",
        "    logging.info(f\"Division successful. Result = {result}\")\n",
        "\n",
        "except ZeroDivisionError:\n",
        "    logging.error(\"Attempted to divide by zero.\")\n",
        "\n",
        "except ValueError:\n",
        "    logging.error(\"Invalid input: not an integer.\")\n",
        "\n",
        "\n",
        "logging.info(\"Program finished.\")\n"
      ],
      "metadata": {
        "colab": {
          "base_uri": "https://localhost:8080/"
        },
        "id": "f0OHKHzZ2ipA",
        "outputId": "b6cddeb1-3b11-4df2-a6e4-1b684b10ade2"
      },
      "execution_count": null,
      "outputs": [
        {
          "name": "stdout",
          "output_type": "stream",
          "text": [
            "Enter a number to divide 100 by: 50\n"
          ]
        }
      ]
    },
    {
      "cell_type": "markdown",
      "source": [
        "# 15. Write a Python program that prints the content of a file and handles the case when the file is empty."
      ],
      "metadata": {
        "id": "zchBW_Dm4ScD"
      }
    },
    {
      "cell_type": "code",
      "source": [
        "try:\n",
        "    with open(\"example.txt\", \"r\") as file:\n",
        "        content = file.read()\n",
        "\n",
        "        if content.strip() == \"\":\n",
        "            print(\"The file is empty.\")\n",
        "        else:\n",
        "            print(\"File content:\")\n",
        "            print(content)\n",
        "\n",
        "except FileNotFoundError:\n",
        "    print(\"Error: The file does not exist.\")\n"
      ],
      "metadata": {
        "colab": {
          "base_uri": "https://localhost:8080/"
        },
        "id": "3cTzsKb94Jrm",
        "outputId": "4076d4f4-e429-4f61-d628-69b59630f6fe"
      },
      "execution_count": null,
      "outputs": [
        {
          "output_type": "stream",
          "name": "stdout",
          "text": [
            "File content:\n",
            "Hello, this is a sample text written to the file.\n",
            "This is the new appended line.\n",
            "This is the new appended line.\n"
          ]
        }
      ]
    },
    {
      "cell_type": "markdown",
      "source": [
        "# 16. Demonstrate how to use memory profiling to check the memory usage of a small program."
      ],
      "metadata": {
        "id": "gsk7NhxL4whS"
      }
    },
    {
      "cell_type": "code",
      "source": [
        "from memory_profiler import profile\n",
        "\n",
        "@profile\n",
        "def create_list():\n",
        "    # Create a large list\n",
        "    large_list = [i for i in range(1000000)]\n",
        "    return large_list\n",
        "\n",
        "if __name__ == \"__main__\":\n",
        "    create_list()"
      ],
      "metadata": {
        "colab": {
          "base_uri": "https://localhost:8080/"
        },
        "id": "6StgFexb5dYT",
        "outputId": "4150d9d3-f939-4793-a631-92b4c7bdea32"
      },
      "execution_count": null,
      "outputs": [
        {
          "output_type": "stream",
          "name": "stderr",
          "text": [
            "\n",
            "PYDEV DEBUGGER WARNING:\n",
            "sys.settrace() should not be used when the debugger is being used.\n",
            "This may cause the debugger to stop working correctly.\n",
            "If this is needed, please check: \n",
            "http://pydev.blogspot.com/2007/06/why-cant-pydev-debugger-work-with.html\n",
            "to see how to restore the debug tracing back correctly.\n",
            "Call Location:\n",
            "  File \"/usr/local/lib/python3.11/dist-packages/memory_profiler.py\", line 847, in enable\n",
            "    sys.settrace(self.trace_memory_usage)\n",
            "\n"
          ]
        },
        {
          "output_type": "stream",
          "name": "stdout",
          "text": [
            "ERROR: Could not find file /tmp/ipython-input-28-2088947250.py\n"
          ]
        },
        {
          "output_type": "stream",
          "name": "stderr",
          "text": [
            "\n",
            "PYDEV DEBUGGER WARNING:\n",
            "sys.settrace() should not be used when the debugger is being used.\n",
            "This may cause the debugger to stop working correctly.\n",
            "If this is needed, please check: \n",
            "http://pydev.blogspot.com/2007/06/why-cant-pydev-debugger-work-with.html\n",
            "to see how to restore the debug tracing back correctly.\n",
            "Call Location:\n",
            "  File \"/usr/local/lib/python3.11/dist-packages/memory_profiler.py\", line 850, in disable\n",
            "    sys.settrace(self._original_trace_function)\n",
            "\n"
          ]
        }
      ]
    },
    {
      "cell_type": "markdown",
      "source": [
        "# 17. Write a Python program to create and write a list of numbers to a file, one number per line."
      ],
      "metadata": {
        "id": "gVXDQdLd5x9W"
      }
    },
    {
      "cell_type": "code",
      "source": [
        "\n",
        "numbers = [1, 2, 3, 4, 5]\n",
        "\n",
        "with open(\"numbers.txt\", \"w\") as file:\n",
        "\n",
        "    for number in numbers:\n",
        "        file.write(f\"{number}\\n\")\n",
        "\n",
        "print(\"Numbers have been written to 'numbers.txt'.\")\n"
      ],
      "metadata": {
        "colab": {
          "base_uri": "https://localhost:8080/"
        },
        "id": "RfCcuKFy5qBM",
        "outputId": "a78ffc73-e0c1-4c1a-96da-9020f31b026e"
      },
      "execution_count": null,
      "outputs": [
        {
          "output_type": "stream",
          "name": "stdout",
          "text": [
            "Numbers have been written to 'numbers.txt'.\n"
          ]
        }
      ]
    },
    {
      "cell_type": "markdown",
      "source": [
        "# 18. How would you implement a basic logging setup that logs to a file with rotation after 1MB?"
      ],
      "metadata": {
        "id": "A1vbxpPc6GsF"
      }
    },
    {
      "cell_type": "code",
      "source": [
        "import logging\n",
        "from logging.handlers import RotatingFileHandler\n",
        "\n",
        "Logger = logging.getLogger(\"mylogger\")\n",
        "handler = RotatingFileHandler(\"my_log.log\", maxBytes = 1048576,\n",
        "backupCount = 3)\n",
        "Logger.addHandler(handler)\n",
        "Logger.setLevel(logging.INFO)\n",
        "Logger.info(\"this is test log\")"
      ],
      "metadata": {
        "colab": {
          "base_uri": "https://localhost:8080/"
        },
        "id": "9FHpUXnUCElE",
        "outputId": "a144baaa-2d0e-4561-a98d-9939923ee1de"
      },
      "execution_count": null,
      "outputs": [
        {
          "output_type": "stream",
          "name": "stderr",
          "text": [
            "INFO:mylogger:this is test log\n"
          ]
        }
      ]
    },
    {
      "cell_type": "markdown",
      "source": [
        "# 19. Write a program that handles both IndexError and KeyError using a try-except bloc."
      ],
      "metadata": {
        "id": "2QdzfkLO9Z7w"
      }
    },
    {
      "cell_type": "code",
      "source": [
        "\n",
        "my_list = [10, 20, 30]\n",
        "my_dict = {\"name\": \"Alice\", \"age\": 25}\n",
        "\n",
        "try:\n",
        "\n",
        "    print(\"List item:\", my_list[5])\n",
        "    print(\"City:\", my_dict[\"city\"])\n",
        "\n",
        "except IndexError:\n",
        "    print(\"Error: List index out of range.\")\n",
        "\n",
        "except KeyError:\n",
        "    print(\"Error: Dictionary key not found.\")\n"
      ],
      "metadata": {
        "colab": {
          "base_uri": "https://localhost:8080/"
        },
        "id": "pXLEBYSn86qT",
        "outputId": "39752201-4ae0-4b23-afc9-32502f6c9e8b"
      },
      "execution_count": null,
      "outputs": [
        {
          "output_type": "stream",
          "name": "stdout",
          "text": [
            "Error: List index out of range.\n"
          ]
        }
      ]
    },
    {
      "cell_type": "markdown",
      "source": [
        "# 20. How would you open a file and read its contents using a context manager in Python?"
      ],
      "metadata": {
        "id": "4TjOPOpx9vfW"
      }
    },
    {
      "cell_type": "code",
      "source": [
        "with open(\"example.txt\", \"r\") as file:\n",
        "    content = file.read()\n",
        "    print(content)\n"
      ],
      "metadata": {
        "colab": {
          "base_uri": "https://localhost:8080/"
        },
        "id": "acoGs9ru9t2R",
        "outputId": "d9367b3d-4d92-4a29-91fc-2280a2728ccc"
      },
      "execution_count": null,
      "outputs": [
        {
          "output_type": "stream",
          "name": "stdout",
          "text": [
            "Hello, this is a sample text written to the file.\n",
            "This is the new appended line.\n",
            "This is the new appended line.\n"
          ]
        }
      ]
    },
    {
      "cell_type": "markdown",
      "source": [
        "# 21. Write a Python program that reads a file and prints the number of occurrences of a specific word."
      ],
      "metadata": {
        "id": "iDbRan6JBpFq"
      }
    },
    {
      "cell_type": "code",
      "source": [
        "\n",
        "filename = \"example.txt\"\n",
        "word_to_count = \"python\"\n",
        "\n",
        "try:\n",
        "    with open(filename, \"r\") as file:\n",
        "        content = file.read()\n",
        "\n",
        "        word_count = content.lower().split().count(word_to_count.lower())\n",
        "        print(f\"The word '{word_to_count}' occurs {word_count} times in '{filename}'.\")\n",
        "\n",
        "except FileNotFoundError:\n",
        "    print(f\"Error: The file '{filename}' does not exist.\")\n"
      ],
      "metadata": {
        "colab": {
          "base_uri": "https://localhost:8080/"
        },
        "id": "dasFjuUgBnrz",
        "outputId": "ec34c8ec-19db-41f1-de14-b582054aa1d0"
      },
      "execution_count": null,
      "outputs": [
        {
          "output_type": "stream",
          "name": "stdout",
          "text": [
            "The word 'python' occurs 0 times in 'example.txt'.\n"
          ]
        }
      ]
    },
    {
      "cell_type": "markdown",
      "source": [
        "# 22. How can you check if a file is empty before attempting to read its contents?"
      ],
      "metadata": {
        "id": "Ug_uvjSyEagf"
      }
    },
    {
      "cell_type": "code",
      "source": [
        "import os\n",
        "\n",
        "filename = \"example.txt\"\n",
        "\n",
        "if os.path.exists(filename) and os.path.getsize(filename) > 0:\n",
        "    with open(filename, \"r\") as file:\n",
        "        content = file.read()\n",
        "        print(\"File content:\")\n",
        "        print(content)\n",
        "else:\n",
        "    print(\"The file is either empty or does not exist.\")\n"
      ],
      "metadata": {
        "colab": {
          "base_uri": "https://localhost:8080/"
        },
        "id": "qNKT48YgEZRs",
        "outputId": "7ae2d011-12b6-4d5b-fd0d-7d739bacde66"
      },
      "execution_count": null,
      "outputs": [
        {
          "output_type": "stream",
          "name": "stdout",
          "text": [
            "File content:\n",
            "Hello, this is a sample text written to the file.\n",
            "This is the new appended line.\n",
            "This is the new appended line.\n"
          ]
        }
      ]
    },
    {
      "cell_type": "markdown",
      "source": [
        "# 23. Write a Python program that writes to a log file when an error occurs during file handling."
      ],
      "metadata": {
        "id": "DHEyn6mPFTMm"
      }
    },
    {
      "cell_type": "code",
      "source": [
        "import logging\n",
        "\n",
        "\n",
        "logging.basicConfig(filename='file_errors.log', level=logging.ERROR,\n",
        "                    format='%(asctime)s - %(levelname)s - %(message)s')\n",
        "\n",
        "filename = \"nonexistent_file.txt\"\n",
        "\n",
        "try:\n",
        "\n",
        "    with open(filename, \"r\") as file:\n",
        "        content = file.read()\n",
        "        print(content)\n",
        "\n",
        "except FileNotFoundError as e:\n",
        "\n",
        "    logging.error(f\"File not found: {filename} - {e}\")\n",
        "    print(\"An error occurred. Check 'file_errors.log' for details.\")\n"
      ],
      "metadata": {
        "colab": {
          "base_uri": "https://localhost:8080/"
        },
        "id": "4oJ7j3RoFSOu",
        "outputId": "fc57ac51-f423-4995-ea2e-e2f6497faa94"
      },
      "execution_count": null,
      "outputs": [
        {
          "output_type": "stream",
          "name": "stderr",
          "text": [
            "ERROR:root:File not found: nonexistent_file.txt - [Errno 2] No such file or directory: 'nonexistent_file.txt'\n"
          ]
        },
        {
          "output_type": "stream",
          "name": "stdout",
          "text": [
            "An error occurred. Check 'file_errors.log' for details.\n"
          ]
        }
      ]
    },
    {
      "cell_type": "code",
      "source": [],
      "metadata": {
        "id": "mXc3ypREFjHM"
      },
      "execution_count": null,
      "outputs": []
    }
  ]
}